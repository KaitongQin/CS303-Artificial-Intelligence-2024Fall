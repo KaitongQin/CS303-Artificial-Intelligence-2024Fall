{
 "cells": [
  {
   "cell_type": "markdown",
   "id": "f0ab60ef",
   "metadata": {},
   "source": [
    "# CSP(1 point)\n",
    "In the following code, only two of the function usages are essential. One is `is_valid(self, state)`, which checks if the current state is legal; the other is `is_satisfy(self, state)`, which is to checks if the current board meets the win condition. \n",
    "The type of state is [], which stores the tuples(a, b), representing the positions of the queens in it.\n",
    "\n",
    "In test block, for `Solver`,  `n` indicates the size of the test while `method` indicates which bts function will be used(`bts` or `improving_bts`or`min_conflict`); for method `solve`, `render` indicates whether to use a graphical interface representation.\n",
    "\n",
    "## Question 1: You should complete the function `bts()`. (0.8 points)\n",
    "You can only use iterative way, not recursive. Using recursion will incur a **20% penalty**. You may add any function you want. \n",
    "**Remember to test the case where N=6**\n",
    "\n",
    "## Question 2: You should complete the function `improving_bts()` or `min_conflict()`. (0.2 points)\n",
    "For `improving_bts()`, you can use one or more of the following strategies: Minimum Remaining Value, Least constraining value, and Forward checking. You should have a good performance (within 2s) **when N = 16 without GUI**. \n",
    "\n",
    "For `min_conflict()`, you should have a good performance  (within 2s) **when N = 100 without GUI**.\n",
    "\n",
    "### DDL: 22:00, Nov.1st\n",
    "The practice will be checked in this lab class or the next lab class(before **Nov.1st**) by teachers or SAs. \n",
    "#### What will be tested: \n",
    "* That you understand every line of your code, not just copy from somewhere \n",
    "* That your program compiles correctly\n",
    "* Correctness of the program logic \n",
    "* That the result is obtained in a reasonable time \n",
    "\n",
    "#### Grading: \n",
    "* Submissions in this lab class: 1.1 points.\n",
    "* Submissions on time: 1 point.\n",
    "* Late submissions within 2 weeks after the deadline: 0.8 points.\n"
   ]
  },
  {
   "cell_type": "code",
   "execution_count": 76,
   "id": "4afb24f8",
   "metadata": {
    "pycharm": {
     "name": ""
    }
   },
   "outputs": [],
   "source": [
    "import numpy as np\n",
    "import time\n",
    "\n",
    "def my_range(start, end):\n",
    "    if start <= end:\n",
    "        return range(start, end + 1)\n",
    "    else:\n",
    "        return range(start, end - 1, -1)\n",
    "\n",
    "\n",
    "class Problem:\n",
    "    char_mapping = ('·', 'Q')\n",
    "\n",
    "    def __init__(self, n=4):\n",
    "        self.N = n\n",
    "\n",
    "    def is_valid(self, state):\n",
    "        \"\"\"\n",
    "        check whether the state satisfies the condition or not.\n",
    "        : param state: list of points (in (row id, col id) tuple form)\n",
    "        : return: bool value of valid or not\n",
    "        \"\"\"\n",
    "        board = self.get_board(state)\n",
    "        res = True\n",
    "        for point in state:\n",
    "            i, j = point\n",
    "            condition1 = board[:, j].sum() <= 1\n",
    "            condition2 = board[i, :].sum() <= 1\n",
    "            condition3 = self.pos_slant_condition(board, point)\n",
    "            condition4 = self.neg_slant_condition(board, point)\n",
    "            res = res and condition1 and condition2 and condition3 and condition4\n",
    "            if not res:\n",
    "                break\n",
    "        return res\n",
    "\n",
    "    def is_satisfy(self, state):\n",
    "        return self.is_valid(state) and len(state) == self.N\n",
    "\n",
    "    def pos_slant_condition(self, board, point):\n",
    "        i, j = point\n",
    "        tmp = min(self.N - i - 1, j)\n",
    "        start = (i + tmp, j - tmp)\n",
    "        tmp = min(i, self.N - j - 1)\n",
    "        end = (i - tmp,  j + tmp)\n",
    "        rows = my_range(start[0], end[0])\n",
    "        cols = my_range(start[1], end[1])\n",
    "        return board[rows, cols].sum() <= 1\n",
    "\n",
    "    def neg_slant_condition(self, board, point):\n",
    "        i, j = point\n",
    "        tmp = min(i, j)\n",
    "        start = (i - tmp, j - tmp)\n",
    "        tmp = min(self.N - i - 1, self.N - j - 1)\n",
    "        end = (i + tmp, j + tmp)\n",
    "        rows = my_range(start[0], end[0])\n",
    "        cols = my_range(start[1], end[1])\n",
    "        return board[rows, cols].sum() <= 1\n",
    "\n",
    "    def get_board(self, state):\n",
    "        board = np.zeros([self.N, self.N], dtype=int)\n",
    "        for point in state:\n",
    "            board[point] = 1\n",
    "        return board\n",
    "\n",
    "    def print_state(self, state):\n",
    "        board = self.get_board(state)\n",
    "        print('_' * (2 * self.N + 1))\n",
    "        for row in board:\n",
    "            for item in row:\n",
    "                print(f'|{Problem.char_mapping[item]}', end='')\n",
    "            print('|')\n",
    "        print('-' * (2 * self.N + 1))\n"
   ]
  },
  {
   "cell_type": "code",
   "execution_count": 77,
   "id": "5e6a8e4d",
   "metadata": {
    "collapsed": false,
    "jupyter": {
     "outputs_hidden": false
    }
   },
   "outputs": [],
   "source": [
    "class Solver:\n",
    "    def __init__(self, n, method):\n",
    "        self.N = n\n",
    "        self.problem = Problem(n)\n",
    "        self.method = method\n",
    "\n",
    "    def solve(self, render=True):\n",
    "        if render:\n",
    "            import pygame\n",
    "            w, h = 90 * self.n + 10, 90 * self.N + 10\n",
    "            screen = pygame.display.set_mode((w, h))\n",
    "            screen.fill('white')\n",
    "            action_generator = self.method(self.problem)\n",
    "            clk = pygame.time.Clock()\n",
    "            queen_img = pygame.image.load('./queen.png')\n",
    "            while True:\n",
    "                for event in pygame.event.get():\n",
    "                    if event == pygame.QUIT:\n",
    "                        exit()\n",
    "                try:\n",
    "                    actions = next(action_generator)\n",
    "                    screen.fill('white')\n",
    "                    for i in range(self.n + 1):\n",
    "                        pygame.draw.rect(screen, 'black', (i * 90, 0, 10, h))\n",
    "                        pygame.draw.rect(screen, 'black', (0, i * 90, w, 10))\n",
    "                    for action in actions:\n",
    "                        i, j = action\n",
    "                        screen.blit(queen_img, (10 + 90 * j, 10 + 90 * i))\n",
    "                    pygame.display.flip()\n",
    "                except StopIteration:\n",
    "                    pass\n",
    "                clk.tick(5)\n",
    "            pass\n",
    "        else:\n",
    "            start_time = time.time()\n",
    "            for actions in self.method(self.problem):\n",
    "                pass\n",
    "            self.problem.print_state(actions)\n",
    "            print(time.time() - start_time)"
   ]
  },
  {
   "cell_type": "markdown",
   "id": "a48f87d8",
   "metadata": {},
   "source": [
    "# BTS: Backtracking search"
   ]
  },
  {
   "cell_type": "code",
   "execution_count": 78,
   "id": "1f9e8ac1",
   "metadata": {},
   "outputs": [],
   "source": [
    "def bts(problem):\n",
    "    action_stack = []\n",
    "    row, col = 0, 0\n",
    "    n = problem.N\n",
    "    while not problem.is_satisfy(action_stack):\n",
    "        action_stack.append((row, col))\n",
    "        yield action_stack\n",
    "        while col < n and not problem.is_valid(action_stack):\n",
    "            col += 1\n",
    "            action_stack.pop()\n",
    "            action_stack.append((row, col))\n",
    "            yield action_stack\n",
    "        if col < n:\n",
    "            if row == n-1:\n",
    "                yield action_stack\n",
    "                return action_stack\n",
    "            row += 1\n",
    "            col = 0\n",
    "        else:\n",
    "            action_stack.pop()\n",
    "            row -= 1\n",
    "            col = action_stack.pop()[1] + 1\n"
   ]
  },
  {
   "cell_type": "markdown",
   "id": "f925203f",
   "metadata": {},
   "source": [
    "# Improving BTS \n",
    "* Which variable should be assigned next?\n",
    "* In what order should its values be tried?\n",
    "* Can we detect inevitable failure early?\n",
    "\n",
    "## Minimum Remaining Value\n",
    "Choose the variable with the fewest legal values in its domain\n",
    "## Least constraining value\n",
    "Given a variable, choose the least constraining value: the one that rules out the fewest values in the remaining variables\n",
    "## Forward checking\n",
    "Keep track of remaining legal values for the unassigned variables. Terminate when any variable has no legal values."
   ]
  },
  {
   "cell_type": "code",
   "execution_count": 79,
   "id": "8f840339",
   "metadata": {},
   "outputs": [],
   "source": [
    "def improving_bts(problem):\n",
    "    action_stack = []\n",
    "    row, col = 0, 0\n",
    "    while not problem.is_satisfy(action_stack):\n",
    "        action_stack.append((row, col))\n",
    "        \n",
    "        # TODO: Implement improving bts logic here\n",
    "        \n",
    "        yield action_stack  "
   ]
  },
  {
   "cell_type": "markdown",
   "id": "c1d4905a",
   "metadata": {},
   "source": [
    "## Local search for CSP(min-conflict algorithm)\n",
    "\n",
    "* First generate a complete assignment for all variables (this set of assignments may conflict)\n",
    "\n",
    "* Repeat the following steps until there are no conflicts:\n",
    "\n",
    "    * Randomly Select a variable that causes conflicts\n",
    "\n",
    "    * Reassign the value of this variable to another value that with the least constraint onflicts with other variables"
   ]
  },
  {
   "cell_type": "code",
   "execution_count": 80,
   "id": "7a4d96d9",
   "metadata": {},
   "outputs": [],
   "source": [
    "def min_conflict(problem):\n",
    "    action_stack = []\n",
    "    while not problem.is_satisfy(action_stack):\n",
    "        # TODO: Implement min_conflict algorithm logic here\n",
    "        \n",
    "        yield action_stack"
   ]
  },
  {
   "cell_type": "markdown",
   "id": "59f83f39",
   "metadata": {
    "collapsed": false,
    "jupyter": {
     "outputs_hidden": false
    }
   },
   "source": [
    "## test block"
   ]
  },
  {
   "cell_type": "code",
   "execution_count": 81,
   "id": "93d2cb99",
   "metadata": {},
   "outputs": [
    {
     "name": "stdout",
     "output_type": "stream",
     "text": [
      "_____________\n",
      "|·|Q|·|·|·|·|\n",
      "|·|·|·|Q|·|·|\n",
      "|·|·|·|·|·|Q|\n",
      "|Q|·|·|·|·|·|\n",
      "|·|·|Q|·|·|·|\n",
      "|·|·|·|·|Q|·|\n",
      "-------------\n",
      "0.019950389862060547\n"
     ]
    }
   ],
   "source": [
    "Solver(n=6, method=bts).solve(render=False)"
   ]
  },
  {
   "cell_type": "code",
   "execution_count": 82,
   "id": "56d694bb-0cfd-4a8f-a9e1-8636fa65d118",
   "metadata": {},
   "outputs": [
    {
     "ename": "KeyboardInterrupt",
     "evalue": "",
     "output_type": "error",
     "traceback": [
      "\u001b[1;31m---------------------------------------------------------------------------\u001b[0m",
      "\u001b[1;31mKeyboardInterrupt\u001b[0m                         Traceback (most recent call last)",
      "Cell \u001b[1;32mIn[82], line 1\u001b[0m\n\u001b[1;32m----> 1\u001b[0m Solver(n\u001b[38;5;241m=\u001b[39m\u001b[38;5;241m16\u001b[39m, method\u001b[38;5;241m=\u001b[39mimproving_bts)\u001b[38;5;241m.\u001b[39msolve(render\u001b[38;5;241m=\u001b[39m\u001b[38;5;28;01mFalse\u001b[39;00m)\n",
      "Cell \u001b[1;32mIn[77], line 36\u001b[0m, in \u001b[0;36mSolver.solve\u001b[1;34m(self, render)\u001b[0m\n\u001b[0;32m     34\u001b[0m \u001b[38;5;28;01melse\u001b[39;00m:\n\u001b[0;32m     35\u001b[0m     start_time \u001b[38;5;241m=\u001b[39m time\u001b[38;5;241m.\u001b[39mtime()\n\u001b[1;32m---> 36\u001b[0m     \u001b[38;5;28;01mfor\u001b[39;00m actions \u001b[38;5;129;01min\u001b[39;00m \u001b[38;5;28mself\u001b[39m\u001b[38;5;241m.\u001b[39mmethod(\u001b[38;5;28mself\u001b[39m\u001b[38;5;241m.\u001b[39mproblem):\n\u001b[0;32m     37\u001b[0m         \u001b[38;5;28;01mpass\u001b[39;00m\n\u001b[0;32m     38\u001b[0m     \u001b[38;5;28mself\u001b[39m\u001b[38;5;241m.\u001b[39mproblem\u001b[38;5;241m.\u001b[39mprint_state(actions)\n",
      "Cell \u001b[1;32mIn[79], line 3\u001b[0m, in \u001b[0;36mimproving_bts\u001b[1;34m(problem)\u001b[0m\n\u001b[0;32m      1\u001b[0m \u001b[38;5;28;01mdef\u001b[39;00m \u001b[38;5;21mimproving_bts\u001b[39m(problem):\n\u001b[0;32m      2\u001b[0m     action_stack \u001b[38;5;241m=\u001b[39m []\n\u001b[1;32m----> 3\u001b[0m     \u001b[38;5;28;01mwhile\u001b[39;00m \u001b[38;5;129;01mnot\u001b[39;00m problem\u001b[38;5;241m.\u001b[39mis_satisfy(action_stack):\n\u001b[0;32m      4\u001b[0m         \u001b[38;5;66;03m# TODO: Implement improving bts logic here\u001b[39;00m\n\u001b[0;32m      6\u001b[0m         \u001b[38;5;28;01myield\u001b[39;00m action_stack\n",
      "Cell \u001b[1;32mIn[76], line 37\u001b[0m, in \u001b[0;36mProblem.is_satisfy\u001b[1;34m(self, state)\u001b[0m\n\u001b[0;32m     36\u001b[0m \u001b[38;5;28;01mdef\u001b[39;00m \u001b[38;5;21mis_satisfy\u001b[39m(\u001b[38;5;28mself\u001b[39m, state):\n\u001b[1;32m---> 37\u001b[0m     \u001b[38;5;28;01mreturn\u001b[39;00m \u001b[38;5;28mself\u001b[39m\u001b[38;5;241m.\u001b[39mis_valid(state) \u001b[38;5;129;01mand\u001b[39;00m \u001b[38;5;28mlen\u001b[39m(state) \u001b[38;5;241m==\u001b[39m \u001b[38;5;28mself\u001b[39m\u001b[38;5;241m.\u001b[39mN\n",
      "Cell \u001b[1;32mIn[76], line 23\u001b[0m, in \u001b[0;36mProblem.is_valid\u001b[1;34m(self, state)\u001b[0m\n\u001b[0;32m     17\u001b[0m \u001b[38;5;28;01mdef\u001b[39;00m \u001b[38;5;21mis_valid\u001b[39m(\u001b[38;5;28mself\u001b[39m, state):\n\u001b[0;32m     18\u001b[0m \u001b[38;5;250m    \u001b[39m\u001b[38;5;124;03m\"\"\"\u001b[39;00m\n\u001b[0;32m     19\u001b[0m \u001b[38;5;124;03m    check whether the state satisfies the condition or not.\u001b[39;00m\n\u001b[0;32m     20\u001b[0m \u001b[38;5;124;03m    : param state: list of points (in (row id, col id) tuple form)\u001b[39;00m\n\u001b[0;32m     21\u001b[0m \u001b[38;5;124;03m    : return: bool value of valid or not\u001b[39;00m\n\u001b[0;32m     22\u001b[0m \u001b[38;5;124;03m    \"\"\"\u001b[39;00m\n\u001b[1;32m---> 23\u001b[0m     board \u001b[38;5;241m=\u001b[39m \u001b[38;5;28mself\u001b[39m\u001b[38;5;241m.\u001b[39mget_board(state)\n\u001b[0;32m     24\u001b[0m     res \u001b[38;5;241m=\u001b[39m \u001b[38;5;28;01mTrue\u001b[39;00m\n\u001b[0;32m     25\u001b[0m     \u001b[38;5;28;01mfor\u001b[39;00m point \u001b[38;5;129;01min\u001b[39;00m state:\n",
      "Cell \u001b[1;32mIn[76], line 60\u001b[0m, in \u001b[0;36mProblem.get_board\u001b[1;34m(self, state)\u001b[0m\n\u001b[0;32m     59\u001b[0m \u001b[38;5;28;01mdef\u001b[39;00m \u001b[38;5;21mget_board\u001b[39m(\u001b[38;5;28mself\u001b[39m, state):\n\u001b[1;32m---> 60\u001b[0m     board \u001b[38;5;241m=\u001b[39m np\u001b[38;5;241m.\u001b[39mzeros([\u001b[38;5;28mself\u001b[39m\u001b[38;5;241m.\u001b[39mN, \u001b[38;5;28mself\u001b[39m\u001b[38;5;241m.\u001b[39mN], dtype\u001b[38;5;241m=\u001b[39m\u001b[38;5;28mint\u001b[39m)\n\u001b[0;32m     61\u001b[0m     \u001b[38;5;28;01mfor\u001b[39;00m point \u001b[38;5;129;01min\u001b[39;00m state:\n\u001b[0;32m     62\u001b[0m         board[point] \u001b[38;5;241m=\u001b[39m \u001b[38;5;241m1\u001b[39m\n",
      "\u001b[1;31mKeyboardInterrupt\u001b[0m: "
     ]
    }
   ],
   "source": [
    "Solver(n=16, method=improving_bts).solve(render=False)"
   ]
  },
  {
   "cell_type": "code",
   "execution_count": null,
   "id": "328a7d69",
   "metadata": {
    "collapsed": false,
    "jupyter": {
     "outputs_hidden": false
    }
   },
   "outputs": [],
   "source": [
    "Solver(n=100, method=min_conflict).solve(render=False)"
   ]
  },
  {
   "cell_type": "code",
   "execution_count": null,
   "id": "4c00ca97-7b79-4ab9-b40a-2a7ea001d463",
   "metadata": {},
   "outputs": [],
   "source": []
  }
 ],
 "metadata": {
  "kernelspec": {
   "display_name": "Python 3 (ipykernel)",
   "language": "python",
   "name": "python3"
  },
  "language_info": {
   "codemirror_mode": {
    "name": "ipython",
    "version": 3
   },
   "file_extension": ".py",
   "mimetype": "text/x-python",
   "name": "python",
   "nbconvert_exporter": "python",
   "pygments_lexer": "ipython3",
   "version": "3.12.4"
  }
 },
 "nbformat": 4,
 "nbformat_minor": 5
}
