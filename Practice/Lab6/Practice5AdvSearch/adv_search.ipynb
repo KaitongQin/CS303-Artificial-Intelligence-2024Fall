{
 "cells": [
  {
   "cell_type": "markdown",
   "metadata": {},
   "source": [
    "# Game (1 point)\n",
    "In the following code, you need to complete the `TODO` sections, so that the players using `minimax_search` and `alphabeta_search` can easily defeat the player using `random_player`, while the players using `minimax_search` and `alphabeta_search` can only end in a draw.\n",
    "\n",
    "### DDL: 22:00, Nov.8st\n",
    "\n",
    "The practice will be checked in this lab class or the next lab class(before **Nov.8th**) by teachers or SAs. \n",
    "\n",
    "#### What will be tested: \n",
    "* That you understand every line of your code, not just copy from somewhere \n",
    "* That your program compiles correctly\n",
    "* Correctness of the program logic \n",
    "* That the result is obtained in a reasonable time \n",
    "\n",
    "#### Grading: \n",
    "\n",
    "* Submissions in this lab class: 1.1 points.\n",
    "* Submissions on time: 1 point.\n",
    "* Late submissions within 2 weeks after the deadline: 0.8 points."
   ]
  },
  {
   "cell_type": "code",
   "execution_count": 19,
   "metadata": {},
   "outputs": [],
   "source": [
    "from game import TicTacToe\n",
    "import random\n",
    "import math\n",
    "import time\n",
    "infinity = math.inf"
   ]
  },
  {
   "cell_type": "markdown",
   "metadata": {},
   "source": [
    "# 1. Getting Started with the Game"
   ]
  },
  {
   "cell_type": "code",
   "execution_count": 20,
   "metadata": {},
   "outputs": [
    {
     "name": "stdout",
     "output_type": "stream",
     "text": [
      ". . .\n",
      ". . .\n",
      ". . .\n",
      "\n",
      "{(0, 1), (1, 2), (2, 1), (0, 0), (1, 1), (2, 0), (0, 2), (2, 2), (1, 0)}\n",
      ". . .\n",
      "X . .\n",
      ". . .\n",
      "\n"
     ]
    }
   ],
   "source": [
    "# initializing a TicTacToe game\n",
    "game = TicTacToe(height=3, width=3, k=3)\n",
    "board = game.initial\n",
    "# get the possible actions\n",
    "actions = game.actions(board)\n",
    "# to apply a move (the board automatically figures out which player)\n",
    "board_after_move = game.result(board, list(actions)[0])\n",
    "\n",
    "print(board)\n",
    "print(actions)\n",
    "print(board_after_move)"
   ]
  },
  {
   "cell_type": "code",
   "execution_count": 21,
   "metadata": {},
   "outputs": [],
   "source": [
    "def play_game_step(game, state, strategies: dict, verbose=False):\n",
    "    start = time.perf_counter()\n",
    "    player = state.to_move\n",
    "    move = strategies[player](game, state)\n",
    "    state = game.result(state, move)\n",
    "    time_elapsed = time.perf_counter() - start\n",
    "    if verbose: \n",
    "        print('Player', player, 'move:', move, f'time: {time_elapsed:.4f}s', )\n",
    "        print(state)\n",
    "    return state\n",
    "\n",
    "def play_game(game, strategies: dict, verbose=False):\n",
    "    \"\"\"Play a turn-taking game. `strategies` is a {player_name: function} dict,\n",
    "    where function(state, game) is used to get the player's move.\"\"\"\n",
    "    state = game.initial\n",
    "    while not game.is_terminal(state):\n",
    "        state = play_game_step(game, state, strategies, verbose)\n",
    "    return state\n",
    "\n",
    "# setup a random strategy for testing\n",
    "def random_player(game, state): return random.choice(list(game.actions(state)))\n",
    "\n",
    "def search_player(search_algorithm):\n",
    "    \"\"\"A game player who uses the specified search algorithm\"\"\"\n",
    "    return lambda game, state: search_algorithm(game, state)[1] # we expect our search algorithm to return (v, move)"
   ]
  },
  {
   "cell_type": "code",
   "execution_count": 22,
   "metadata": {},
   "outputs": [],
   "source": [
    "# initialize a game\n",
    "game = TicTacToe()\n",
    "state = game.initial\n",
    "strategies = dict(X=random_player, O=random_player)"
   ]
  },
  {
   "cell_type": "code",
   "execution_count": 23,
   "metadata": {},
   "outputs": [
    {
     "name": "stdout",
     "output_type": "stream",
     "text": [
      "Player X move: (0, 1) time: 0.0000s\n",
      ". . .\n",
      "X . .\n",
      ". . .\n",
      "\n"
     ]
    }
   ],
   "source": [
    "# option 1: \n",
    "# play_game(game, strategies, True)\n",
    "\n",
    "# option 2: run it step by step by executing this cell multiple times until the game end\n",
    "if not game.is_terminal(state):\n",
    "    state = play_game_step(game, state, strategies, True)\n",
    "else:\n",
    "    print(f\"Game result: {game.utility(state, 'X')}\")\n",
    "    print(state)"
   ]
  },
  {
   "cell_type": "markdown",
   "metadata": {},
   "source": [
    "# 2. MINIMAX and Alpha-Beta "
   ]
  },
  {
   "cell_type": "markdown",
   "metadata": {},
   "source": [
    "### MINIMAX-DECISION and EXPECTIMINIMAX\n",
    "\n",
    "__function__ MINIMAX-DECISION(_state_) __returns__ _an action_  \n",
    "&emsp;__return__ arg max<sub> _a_ &Element; ACTIONS(_s_)</sub> MIN\\-VALUE(RESULT(_state_, _a_))  \n",
    "\n",
    "---\n",
    "__function__ MAX\\-VALUE(_state_) __returns__ _a utility value_  \n",
    "&emsp;__if__ TERMINAL\\-TEST(_state_) __then return__ UTILITY(_state_)  \n",
    "&emsp;_v_ &larr; &minus;&infin;  \n",
    "&emsp;__for each__ _a_ __in__ ACTIONS(_state_) __do__  \n",
    "&emsp;&emsp;&emsp;_v_ &larr; MAX(_v_, MIN\\-VALUE(RESULT(_state_, _a_)))  \n",
    "&emsp;__return__ _v_  \n",
    "\n",
    "---\n",
    "__function__ MIN\\-VALUE(_state_) __returns__ _a utility value_  \n",
    "&emsp;__if__ TERMINAL\\-TEST(_state_) __then return__ UTILITY(_state_)  \n",
    "&emsp;_v_ &larr; &infin;  \n",
    "&emsp;__for each__ _a_ __in__ ACTIONS(_state_) __do__  \n",
    "&emsp;&emsp;&emsp;_v_ &larr; MIN(_v_, MAX\\-VALUE(RESULT(_state_, _a_)))  \n",
    "&emsp;__return__ _v_  \n",
    "\n",
    "---\n",
    "__function__ EXPECTIMINIMAX(_s_) =     \n",
    "&emsp;UTILITY(_s_) __if__ TERMINAL\\-TEST(_s_)  \n",
    "&emsp;max<sub>_a_</sub> EXPECTIMINIMAX(RESULT(_s, a_)) __if__ PLAYER(_s_)= MAX  \n",
    "&emsp;min<sub>_a_</sub> EXPECTIMINIMAX(RESULT(_s, a_)) __if__ PLAYER(_s_)= MIN  \n",
    "&emsp;∑<sub>_r_</sub> P(_r_) EXPECTIMINIMAX(RESULT(_s, r_)) __if__ PLAYER(_s_)= CHANCE  \n"
   ]
  },
  {
   "cell_type": "code",
   "execution_count": 24,
   "metadata": {},
   "outputs": [
    {
     "name": "stdout",
     "output_type": "stream",
     "text": [
      "Player X move: (0, 1) time: 4.5525s\n",
      ". . .\n",
      "X . .\n",
      ". . .\n",
      "\n",
      "Player O move: (1, 2) time: 0.0000s\n",
      ". . .\n",
      "X . .\n",
      ". O .\n",
      "\n",
      "Player X move: (1, 1) time: 0.0616s\n",
      ". . .\n",
      "X X .\n",
      ". O .\n",
      "\n",
      "Player O move: (0, 0) time: 0.0000s\n",
      "O . .\n",
      "X X .\n",
      ". O .\n",
      "\n",
      "Player X move: (2, 1) time: 0.0016s\n",
      "O . .\n",
      "X X X\n",
      ". O .\n",
      "\n",
      "CPU times: total: 922 ms\n",
      "Wall time: 4.62 s\n"
     ]
    },
    {
     "data": {
      "text/plain": [
       "O . .\n",
       "X X X\n",
       ". O ."
      ]
     },
     "execution_count": 24,
     "metadata": {},
     "output_type": "execute_result"
    }
   ],
   "source": [
    "def minimax_search(game, state):\n",
    "    \"\"\"Search game tree to determine best move; return (value, move) pair.\"\"\"\n",
    "\n",
    "    player = state.to_move\n",
    "\n",
    "    def max_value(state):\n",
    "        if game.is_terminal(state):\n",
    "            return game.utility(state, player), None\n",
    "        v, move = -infinity, None\n",
    "        for a in game.actions(state):\n",
    "            v2, _ = min_value(game.result(state, a))\n",
    "            if v < v2:\n",
    "                v = v2\n",
    "                move = a            \n",
    "        return v, move\n",
    "\n",
    "    def min_value(state):\n",
    "        # TODO: implement function min_value\n",
    "        if game.is_terminal(state):\n",
    "            return game.utility(state, player), None\n",
    "        v, move = +infinity, None\n",
    "        for a in game.actions(state):\n",
    "            v2, _ = max_value(game.result(state, a))\n",
    "            if v > v2:\n",
    "                v = v2\n",
    "                move = a\n",
    "        return v, move\n",
    "\n",
    "    return max_value(state)\n",
    "\n",
    "# test against random_player\n",
    "%time play_game(TicTacToe(), dict(X=search_player(minimax_search), O=random_player), True)"
   ]
  },
  {
   "cell_type": "code",
   "execution_count": 25,
   "metadata": {},
   "outputs": [
    {
     "name": "stdout",
     "output_type": "stream",
     "text": [
      "Player X move: (0, 1) time: 4.5036s\n",
      ". . .\n",
      "X . .\n",
      ". . .\n",
      "\n",
      "Player O move: (2, 1) time: 0.5145s\n",
      ". . .\n",
      "X . O\n",
      ". . .\n",
      "\n",
      "Player X move: (1, 2) time: 0.0786s\n",
      ". . .\n",
      "X . O\n",
      ". X .\n",
      "\n",
      "Player O move: (0, 0) time: 0.0114s\n",
      "O . .\n",
      "X . O\n",
      ". X .\n",
      "\n",
      "Player X move: (1, 1) time: 0.0025s\n",
      "O . .\n",
      "X X O\n",
      ". X .\n",
      "\n",
      "Player O move: (1, 0) time: 0.0003s\n",
      "O O .\n",
      "X X O\n",
      ". X .\n",
      "\n",
      "Player X move: (2, 0) time: 0.0001s\n",
      "O O X\n",
      "X X O\n",
      ". X .\n",
      "\n",
      "Player O move: (0, 2) time: 0.0000s\n",
      "O O X\n",
      "X X O\n",
      "O X .\n",
      "\n",
      "Player X move: (2, 2) time: 0.0000s\n",
      "O O X\n",
      "X X O\n",
      "O X X\n",
      "\n",
      "CPU times: total: 1.58 s\n",
      "Wall time: 5.11 s\n"
     ]
    },
    {
     "data": {
      "text/plain": [
       "O O X\n",
       "X X O\n",
       "O X X"
      ]
     },
     "execution_count": 25,
     "metadata": {},
     "output_type": "execute_result"
    }
   ],
   "source": [
    "# if you have implemented it right, it will always be a draw for h=w=k=3\n",
    "%time play_game(TicTacToe(), dict(X=search_player(minimax_search), O=search_player(minimax_search)), True)"
   ]
  },
  {
   "cell_type": "markdown",
   "metadata": {},
   "source": [
    "### ALPHA-BETA-SEARCH\n",
    "\n",
    "__function__ ALPHA-BETA-SEARCH(_state_) __returns__ an action  \n",
    "&emsp;_v_ &larr; MAX\\-VALUE(_state_, &minus;&infin;, &plus;&infin;)  \n",
    "&emsp;__return__ the _action_ in ACTIONS(_state_) with value _v_  \n",
    "\n",
    "---\n",
    "__function__ MAX\\-VALUE(_state_, _&alpha;_, _&beta;_) __returns__ _a utility value_  \n",
    "&emsp;__if__ TERMINAL\\-TEST(_state_) __then return__ UTILITY(_state_)  \n",
    "&emsp;_v_ &larr; &minus;&infin;  \n",
    "&emsp;__for each__ _a_ __in__ ACTIONS(_state_) __do__  \n",
    "&emsp;&emsp;&emsp;_v_ &larr; MAX(_v_, MIN\\-VALUE(RESULT(_state_, _a_), _&alpha;_, _&beta;_))  \n",
    "&emsp;&emsp;&emsp;__if__ _v_ &ge; _&beta;_ __then return__ _v_  \n",
    "&emsp;&emsp;&emsp;_&alpha;_ &larr; MAX(_&alpha;_, _v_)  \n",
    "&emsp;__return__ _v_  \n",
    "\n",
    "---\n",
    "__function__ MIN\\-VALUE(_state_, _&alpha;_, _&beta;_) __returns__ _a utility value_  \n",
    "&emsp;__if__ TERMINAL\\-TEST(_state_) __then return__ UTILITY(_state_)  \n",
    "&emsp;_v_ &larr; &plus;&infin;  \n",
    "&emsp;__for each__ _a_ __in__ ACTIONS(_state_) __do__  \n",
    "&emsp;&emsp;&emsp;_v_ &larr; MIN(_v_, MAX\\-VALUE(RESULT(_state_, _a_), _&alpha;_, _&beta;_))  \n",
    "&emsp;&emsp;&emsp;__if__ _v_ &le; _&alpha;_ __then return__ _v_  \n",
    "&emsp;&emsp;&emsp;_&beta;_ &larr; MIN(_&beta;_, _v_)  \n",
    "&emsp;__return__ _v_  \n"
   ]
  },
  {
   "cell_type": "code",
   "execution_count": 26,
   "metadata": {},
   "outputs": [
    {
     "name": "stdout",
     "output_type": "stream",
     "text": [
      "Player X move: (0, 1) time: 0.1876s\n",
      ". . .\n",
      "X . .\n",
      ". . .\n",
      "\n",
      "Player O move: (2, 0) time: 0.0000s\n",
      ". . O\n",
      "X . .\n",
      ". . .\n",
      "\n",
      "Player X move: (0, 0) time: 0.0046s\n",
      "X . O\n",
      "X . .\n",
      ". . .\n",
      "\n",
      "Player O move: (1, 0) time: 0.0000s\n",
      "X O O\n",
      "X . .\n",
      ". . .\n",
      "\n",
      "Player X move: (1, 2) time: 0.0004s\n",
      "X O O\n",
      "X . .\n",
      ". X .\n",
      "\n",
      "Player O move: (2, 1) time: 0.0000s\n",
      "X O O\n",
      "X . O\n",
      ". X .\n",
      "\n",
      "Player X move: (2, 2) time: 0.0001s\n",
      "X O O\n",
      "X . O\n",
      ". X X\n",
      "\n",
      "Player O move: (0, 2) time: 0.0000s\n",
      "X O O\n",
      "X . O\n",
      "O X X\n",
      "\n",
      "Player X move: (1, 1) time: 0.0000s\n",
      "X O O\n",
      "X X O\n",
      "O X X\n",
      "\n",
      "CPU times: total: 46.9 ms\n",
      "Wall time: 192 ms\n"
     ]
    },
    {
     "data": {
      "text/plain": [
       "X O O\n",
       "X X O\n",
       "O X X"
      ]
     },
     "execution_count": 26,
     "metadata": {},
     "output_type": "execute_result"
    }
   ],
   "source": [
    "def alphabeta_search(game, state):\n",
    "    \"\"\"Search game to determine best action; use alpha-beta pruning.\n",
    "    As in [Figure 5.7], this version searches all the way to the leaves.\"\"\"\n",
    "\n",
    "    player = state.to_move\n",
    "\n",
    "    def max_value(state, alpha, beta):\n",
    "        if game.is_terminal(state):\n",
    "            return game.utility(state, player), None\n",
    "        v, move = -infinity, None\n",
    "        for a in game.actions(state):\n",
    "            v2, _ = min_value(game.result(state, a), alpha, beta)\n",
    "            if v < v2:\n",
    "                v = v2\n",
    "                move = a\n",
    "            if v >= beta:\n",
    "                return v, move\n",
    "            alpha = max(v, alpha)\n",
    "        return v, move\n",
    "\n",
    "    def min_value(state, alpha, beta):\n",
    "        if game.is_terminal(state):\n",
    "            return game.utility(state, player), None\n",
    "        v, move = +infinity, None\n",
    "        for a in game.actions(state):\n",
    "            v2, _ = max_value(game.result(state, a), alpha, beta)\n",
    "            if v > v2:\n",
    "                v = v2\n",
    "                move = a\n",
    "            if v <= alpha:\n",
    "                return v, move\n",
    "            beta = min(v, beta)            \n",
    "        return v, move\n",
    "\n",
    "    return max_value(state, -infinity, +infinity)\n",
    "\n",
    "# test against random_player\n",
    "%time play_game(TicTacToe(), dict(X=search_player(alphabeta_search), O=random_player), True)"
   ]
  },
  {
   "cell_type": "code",
   "execution_count": 27,
   "metadata": {},
   "outputs": [
    {
     "name": "stdout",
     "output_type": "stream",
     "text": [
      "Player X move: (0, 1) time: 0.1896s\n",
      ". . .\n",
      "X . .\n",
      ". . .\n",
      "\n",
      "Player O move: (2, 1) time: 0.0350s\n",
      ". . .\n",
      "X . O\n",
      ". . .\n",
      "\n",
      "Player X move: (1, 2) time: 0.0118s\n",
      ". . .\n",
      "X . O\n",
      ". X .\n",
      "\n",
      "Player O move: (0, 0) time: 0.0034s\n",
      "O . .\n",
      "X . O\n",
      ". X .\n",
      "\n",
      "Player X move: (1, 1) time: 0.0011s\n",
      "O . .\n",
      "X X O\n",
      ". X .\n",
      "\n",
      "Player O move: (1, 0) time: 0.0002s\n",
      "O O .\n",
      "X X O\n",
      ". X .\n",
      "\n",
      "Player X move: (2, 0) time: 0.0001s\n",
      "O O X\n",
      "X X O\n",
      ". X .\n",
      "\n",
      "Player O move: (0, 2) time: 0.0000s\n",
      "O O X\n",
      "X X O\n",
      "O X .\n",
      "\n",
      "Player X move: (2, 2) time: 0.0000s\n",
      "O O X\n",
      "X X O\n",
      "O X X\n",
      "\n",
      "CPU times: total: 62.5 ms\n",
      "Wall time: 248 ms\n"
     ]
    },
    {
     "data": {
      "text/plain": [
       "O O X\n",
       "X X O\n",
       "O X X"
      ]
     },
     "execution_count": 27,
     "metadata": {},
     "output_type": "execute_result"
    }
   ],
   "source": [
    "%time play_game(TicTacToe(), dict(X=search_player(alphabeta_search), O=search_player(alphabeta_search)), True)"
   ]
  },
  {
   "cell_type": "markdown",
   "metadata": {},
   "source": []
  }
 ],
 "metadata": {
  "kernelspec": {
   "display_name": "base",
   "language": "python",
   "name": "python3"
  },
  "language_info": {
   "codemirror_mode": {
    "name": "ipython",
    "version": 3
   },
   "file_extension": ".py",
   "mimetype": "text/x-python",
   "name": "python",
   "nbconvert_exporter": "python",
   "pygments_lexer": "ipython3",
   "version": "3.12.4"
  }
 },
 "nbformat": 4,
 "nbformat_minor": 4
}
